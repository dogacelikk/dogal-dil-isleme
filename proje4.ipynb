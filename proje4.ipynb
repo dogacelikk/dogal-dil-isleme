{
  "nbformat": 4,
  "nbformat_minor": 0,
  "metadata": {
    "colab": {
      "provenance": [],
      "authorship_tag": "ABX9TyP8gcgfmpkHW1U0yHGDEp0J",
      "include_colab_link": true
    },
    "kernelspec": {
      "name": "python3",
      "display_name": "Python 3"
    },
    "language_info": {
      "name": "python"
    }
  },
  "cells": [
    {
      "cell_type": "markdown",
      "metadata": {
        "id": "view-in-github",
        "colab_type": "text"
      },
      "source": [
        "<a href=\"https://colab.research.google.com/github/dogacelikk/dogal-dil-isleme/blob/main/proje4.ipynb\" target=\"_parent\"><img src=\"https://colab.research.google.com/assets/colab-badge.svg\" alt=\"Open In Colab\"/></a>"
      ]
    },
    {
      "cell_type": "code",
      "execution_count": 4,
      "metadata": {
        "id": "mGGz33H3RyYp"
      },
      "outputs": [],
      "source": [
        "import nltk\n",
        "from nltk.tokenize import word_tokenize"
      ]
    },
    {
      "cell_type": "code",
      "source": [
        "# Konu başlıkları ve anahtar kelimeler\n",
        "topics = {\n",
        "    \"Siyaset\": [\"hükümet\", \"seçim\", \"milletvekili\", \"parlamento\", \"demokrasi\", \"parti\", \"meclis\", \"politika\", \"yönetim\"],\n",
        "    \"Teknoloji\": [\"yapay zeka\", \"gelişim\", \"robot\", \"internet\", \"yazılım\", \"donanım\", \"teknoloji\", \"bilgisayar\"],\n",
        "    \"Spor\": [\"futbol\", \"basketbol\", \"maç\", \"sporcu\", \"şampiyon\", \"takım\", \"faul\", \"fit\", \"atletizm\", \"kulüp\"],\n",
        "    \"Sağlık\": [\"sağlık\", \"hastane\", \"hasta\", \"doktor\", \"ilaç\", \"tedavi\", \"hastalık\", \"eczacı\", \"ameliyat\", \"randevu\", \"reçete\"],\n",
        "    \"Eğlence\": [\"film\", \"lunapark\", \"dizi\", \"oyun\", \"konser\", \"müzik\", \"eğlence\", \"parti\", \"tiyatro\", \"sirk\"]\n",
        "}\n",
        "\n",
        "def detect_topic(text):\n",
        "    # Metni küçük harfe çevirip basit bir boşlukla ayırarak kelimelere böleriz\n",
        "    words = text.lower().split()\n",
        "\n",
        "    # Konu başlıklarını sırayla kontrol etme\n",
        "    for topic, keywords in topics.items():\n",
        "        # Anahtar kelimelerden herhangi biri metinde varsa konu tespit edilir\n",
        "        if any(word in words for word in keywords):\n",
        "            return f\"Metin {topic} konusuyla ilgili.\"\n",
        "\n",
        "    # Hiçbir konu başlığıyla eşleşmezse\n",
        "    return \"Diğer konular\"\n",
        "\n",
        "# Kullanıcıdan metin alma aşaması\n",
        "metin = input(\"Lütfen bir metin girin: \")\n",
        "print(detect_topic(metin))"
      ],
      "metadata": {
        "colab": {
          "base_uri": "https://localhost:8080/"
        },
        "id": "tptXz-NkR2n-",
        "outputId": "4a0a3840-5d08-49e6-da51-2d2d401fcb5d"
      },
      "execution_count": 5,
      "outputs": [
        {
          "output_type": "stream",
          "name": "stdout",
          "text": [
            "Lütfen bir metin girin: doktor\n",
            "Metin Sağlık konusuyla ilgili.\n"
          ]
        }
      ]
    }
  ]
}