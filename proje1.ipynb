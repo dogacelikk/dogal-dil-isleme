{
  "nbformat": 4,
  "nbformat_minor": 0,
  "metadata": {
    "colab": {
      "provenance": [],
      "authorship_tag": "ABX9TyOmX97doj6IPCWyGdNBayMF",
      "include_colab_link": true
    },
    "kernelspec": {
      "name": "python3",
      "display_name": "Python 3"
    },
    "language_info": {
      "name": "python"
    }
  },
  "cells": [
    {
      "cell_type": "markdown",
      "metadata": {
        "id": "view-in-github",
        "colab_type": "text"
      },
      "source": [
        "<a href=\"https://colab.research.google.com/github/dogacelikk/dogal-dil-isleme/blob/main/proje1.ipynb\" target=\"_parent\"><img src=\"https://colab.research.google.com/assets/colab-badge.svg\" alt=\"Open In Colab\"/></a>"
      ]
    },
    {
      "cell_type": "code",
      "execution_count": null,
      "metadata": {
        "id": "S2O13Wv5b4xc"
      },
      "outputs": [],
      "source": [
        "def detect_language(text):\n",
        "    # Her dilin ayırt edici kelimeleri ve karakteristik harfleri\n",
        "    languages = {\n",
        "        \"Türkçe\": {\"words\": [\"ve\", \"bir\", \"bu\", \"şu\", \"merhaba\", \"selam\", \"öküz\"], \"chars\": [\"ı\", \"ş\", \"ç\", \"ğ\"]},\n",
        "        \"İngilizce\": {\"words\": [\"the\", \"and\", \"of\", \"hello\", \"hi\"], \"chars\": [\"w\", \"x\", \"q\"]},\n",
        "        \"Almanca\": {\"words\": [\"und\", \"der\", \"hallo\", \"das\"], \"chars\": [\"ä\", \"ö\", \"ü\", \"ß\"]},\n",
        "        \"Fransızca\": {\"words\": [\"le\", \"de\", \"bonjour\", \"merci\"], \"chars\": [\"é\", \"à\", \"ç\"]},\n",
        "        \"İspanyolca\": {\"words\": [\"el\", \"la\", \"hola\", \"gracias\"], \"chars\": [\"ñ\", \"á\", \"ó\"]}\n",
        "    }\n",
        "\n",
        "    # Metni küçük harfe çevirip kelimelere böleriz\n",
        "    text = text.lower()\n",
        "    words = text.split()\n",
        "\n",
        "    # Her dil için kelime ve harf puanı hesaplama\n",
        "    scores = {}\n",
        "    for lang, info in languages.items():\n",
        "        # Ayırt edici kelimeler için daha yüksek bir ağırlık\n",
        "        word_score = sum(2 for word in words if word in info[\"words\"])\n",
        "        char_score = sum(1 for char in text if char in info[\"chars\"])\n",
        "        scores[lang] = word_score + char_score\n",
        "\n",
        "    # En yüksek puanı alan dili tespit etme\n",
        "    detected_language = max(scores, key=scores.get)\n",
        "\n",
        "    # Tespit edilen dilin puanı 0 ise, belirtilen dillerden değil\n",
        "    if scores[detected_language] == 0:\n",
        "        return \"Bu dil Türkçe, İngilizce, Almanca, Fransızca veya İspanyolca değil.\"\n",
        "    else:\n",
        "        return f\"Metin {detected_language} dilinde yazılmış.\"\n",
        "\n",
        "# Kullanıcıdan metin alma aşaması\n",
        "metin = input(\"Lütfen bir metin girin: \")\n",
        "print(detect_language(metin))\n"
      ]
    }
  ]
}