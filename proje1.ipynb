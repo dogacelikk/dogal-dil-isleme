{
  "nbformat": 4,
  "nbformat_minor": 0,
  "metadata": {
    "colab": {
      "provenance": [],
      "authorship_tag": "ABX9TyNujRN3FURfA1t0i6qnqT7N",
      "include_colab_link": true
    },
    "kernelspec": {
      "name": "python3",
      "display_name": "Python 3"
    },
    "language_info": {
      "name": "python"
    }
  },
  "cells": [
    {
      "cell_type": "markdown",
      "metadata": {
        "id": "view-in-github",
        "colab_type": "text"
      },
      "source": [
        "<a href=\"https://colab.research.google.com/github/dogacelikk/dogal-dil-isleme/blob/main/proje1.ipynb\" target=\"_parent\"><img src=\"https://colab.research.google.com/assets/colab-badge.svg\" alt=\"Open In Colab\"/></a>"
      ]
    },
    {
      "cell_type": "code",
      "execution_count": 51,
      "metadata": {
        "colab": {
          "base_uri": "https://localhost:8080/"
        },
        "id": "S2O13Wv5b4xc",
        "outputId": "b3f8c023-e08d-4df8-fe3e-84f5f2317c31"
      },
      "outputs": [
        {
          "output_type": "stream",
          "name": "stdout",
          "text": [
            "Dil Tespiti: Türkçe\n"
          ]
        }
      ],
      "source": [
        "def dil_tespit(metin):\n",
        "    #her dilin karakteristik harf ve sık kullanılan kelimeleri\n",
        "    turkce = [\"ı\", \"ş\", \"ç\", \"ğ\", \"ve\", \"bir\", \"bu\", \"şu\", \"merhaba\", \"selam\"]\n",
        "    ingilizce = [\"w\", \"x\", \"q\", \"the\", \"is\", \"and\", \"of\", \"hello\", \"hi\"]\n",
        "    almanca = [\"ä\", \"ö\", \"ü\", \"ß\", \"und\", \"der\", \"die\", \"hallo\"]\n",
        "    fransizca = [\"é\", \"è\", \"ê\", \"à\", \"ç\", \"le\", \"de\", \"et\", \"bonjour\"]\n",
        "    ispanyolca = [\"ñ\", \"á\", \"é\", \"í\", \"ó\", \"ú\", \"el\", \"la\", \"hola\"]\n",
        "\n",
        "    #dil tespiti\n",
        "    if any(harf in metin for harf in turkce) or any(kelime in metin.lower() for kelime in turkce):\n",
        "        return \"Türkçe\"\n",
        "    elif any(harf in metin for harf in ingilizce) or any(kelime in metin.lower() for kelime in ingilizce):\n",
        "        return \"İngilizce\"\n",
        "    elif any(harf in metin for harf in almanca) or any(kelime in metin.lower() for kelime in almanca):\n",
        "        return \"Almanca\"\n",
        "    elif any(harf in metin for harf in fransizca) or any(kelime in metin.lower() for kelime in fransizca):\n",
        "        return \"Fransızca\"\n",
        "    elif any(harf in metin for harf in ispanyolca) or any(kelime in metin.lower() for kelime in ispanyolca):\n",
        "        return \"İspanyolca\"\n",
        "    else:\n",
        "        return \"Dil tespit edilemedi.\"\n",
        "#test\n",
        "metin = \"selam\"\n",
        "sonuc = dil_tespit(metin)\n",
        "#sonuc\n",
        "print(\"Dil Tespiti:\", sonuc)\n"
      ]
    }
  ]
}